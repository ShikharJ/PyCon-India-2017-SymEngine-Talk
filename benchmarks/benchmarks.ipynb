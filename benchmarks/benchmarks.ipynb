{
 "cells": [
  {
   "cell_type": "code",
   "execution_count": null,
   "metadata": {
    "collapsed": false
   },
   "outputs": [],
   "source": [
    "from subprocess import Popen, PIPE, TimeoutExpired\n",
    "import json\n",
    "import os\n",
    "import signal\n",
    "\n",
    "test1 = [\"expand2\", list(range(5, 20, 2))]\n",
    "test2 = [\"expand6\", list(range(100, 1100, 100))]\n",
    "test3 = [\"expand7\", list(range(10, 50, 3))]\n",
    "\n",
    "tests = [test2, test3, test1]\n",
    "for test in tests:\n",
    "    name = test[0]\n",
    "    param = test[1][:]\n",
    "    for b in range(4):\n",
    "        lib = [\"\", \"_ginac\", \".m\", \".py\"][b]\n",
    "        time = [float('inf')] * len(test[1])\n",
    "        for i in range(len(param)):\n",
    "            test_name = name+lib+\" \"+str(param[i])\n",
    "            command = 'LD_PRELOAD=/usr/lib/libtcmalloc.so ./'+test_name\n",
    "            with Popen(command, shell=True, stdout=PIPE, preexec_fn=os.setsid) as process:\n",
    "                try:\n",
    "                    output = process.communicate(timeout=120)[0]\n",
    "                    time[i] = float(output.splitlines()[0].decode('utf-8').replace(\"ms\", \"\"))\n",
    "                except TimeoutExpired:\n",
    "                    os.killpg(process.pid, signal.SIGINT) # send signal to the process group\n",
    "                    break\n",
    "            print(test_name, time[i])\n",
    "        test.append(time)\n",
    "        print(time)\n",
    "with open('data.json', 'w') as f:\n",
    "    f.write(json.dumps(tests))"
   ]
  },
  {
   "cell_type": "code",
   "execution_count": null,
   "metadata": {
    "collapsed": false,
    "scrolled": true
   },
   "outputs": [],
   "source": [
    "%matplotlib inline\n",
    "import matplotlib.pyplot as plt\n",
    "import json\n",
    "import numpy as np\n",
    "with open('data.json', 'r') as f:\n",
    "    tests = json.loads(f.read())\n",
    "for test in tests:\n",
    "    name = test[0]\n",
    "    param = np.log(test[1][:])\n",
    "    plt.plot(param, np.log(test[2]), 'g', label=\"SymEngine\")\n",
    "    plt.plot(param, np.log(test[3]), 'b', label=\"GiNaC\")\n",
    "    plt.plot(param, np.log(test[4]), 'r', label=\"Mathematica\")\n",
    "    plt.plot(param, np.log(test[5]), 'y', label=\"SymPy\")\n",
    "    plt.xlabel('Parameter')\n",
    "    plt.ylabel('Time in ms')\n",
    "    plt.title(\"Benchmark \"+name)\n",
    "    plt.legend(loc='lower right')\n",
    "    plt.show()"
   ]
  },
  {
   "cell_type": "code",
   "execution_count": null,
   "metadata": {
    "collapsed": true
   },
   "outputs": [],
   "source": []
  }
 ],
 "metadata": {
  "kernelspec": {
   "display_name": "Python 2",
   "language": "python",
   "name": "python2"
  },
  "language_info": {
   "codemirror_mode": {
    "name": "ipython",
    "version": 3
   },
   "file_extension": ".py",
   "mimetype": "text/x-python",
   "name": "python",
   "nbconvert_exporter": "python",
   "pygments_lexer": "ipython3",
   "version": "3.5.1+"
  }
 },
 "nbformat": 4,
 "nbformat_minor": 0
}
