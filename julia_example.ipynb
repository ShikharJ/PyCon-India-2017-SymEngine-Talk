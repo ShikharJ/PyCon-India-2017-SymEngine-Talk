{
 "cells": [
  {
   "cell_type": "code",
   "execution_count": 1,
   "metadata": {
    "collapsed": false
   },
   "outputs": [],
   "source": [
    "using SymEngine"
   ]
  },
  {
   "cell_type": "code",
   "execution_count": 2,
   "metadata": {
    "collapsed": false
   },
   "outputs": [
    {
     "data": {
      "text/plain": [
       " _____           _____         _         \n",
       "|   __|_ _ _____|   __|___ ___|_|___ ___ \n",
       "|__   | | |     |   __|   | . | |   | -_|\n",
       "|_____|_  |_|_|_|_____|_|_|_  |_|_|_|___|\n",
       "      |___|               |___|          \n"
      ]
     },
     "execution_count": 2,
     "metadata": {},
     "output_type": "execute_result"
    }
   ],
   "source": [
    "ascii_art()"
   ]
  },
  {
   "cell_type": "code",
   "execution_count": 3,
   "metadata": {
    "collapsed": false
   },
   "outputs": [
    {
     "data": {
      "text/plain": [
       "(a,b,c)"
      ]
     },
     "execution_count": 3,
     "metadata": {},
     "output_type": "execute_result"
    }
   ],
   "source": [
    "a,b,c = symbols(\"a b c\")"
   ]
  },
  {
   "cell_type": "code",
   "execution_count": 4,
   "metadata": {
    "collapsed": false
   },
   "outputs": [
    {
     "data": {
      "text/plain": [
       "(a + b + c)^10"
      ]
     },
     "execution_count": 4,
     "metadata": {},
     "output_type": "execute_result"
    }
   ],
   "source": [
    "d = (a+b+c)^10"
   ]
  },
  {
   "cell_type": "code",
   "execution_count": 5,
   "metadata": {
    "collapsed": false
   },
   "outputs": [
    {
     "data": {
      "text/plain": [
       "10*a*b^9 + 10*a*c^9 + 45*a^2*b^8 + 45*a^2*c^8 + 120*a^3*b^7 + 120*a^3*c^7 + 210*a^4*b^6 + 210*a^4*c^6 + 252*a^5*b^5 + 252*a^5*c^5 + 210*a^6*b^4 + 210*a^6*c^4 + 120*a^7*b^3 + 120*a^7*c^3 + 45*a^8*b^2 + 45*a^8*c^2 + 10*a^9*b + 10*a^9*c + 10*b*c^9 + 45*b^2*c^8 + 120*b^3*c^7 + 210*b^4*c^6 + 252*b^5*c^5 + 210*b^6*c^4 + 120*b^7*c^3 + 45*b^8*c^2 + 10*b^9*c + 90*a*b*c^8 + 360*a*b^2*c^7 + 840*a*b^3*c^6 + 1260*a*b^4*c^5 + 1260*a*b^5*c^4 + 840*a*b^6*c^3 + 360*a*b^7*c^2 + 90*a*b^8*c + 360*a^2*b*c^7 + 1260*a^2*b^2*c^6 + 2520*a^2*b^3*c^5 + 3150*a^2*b^4*c^4 + 2520*a^2*b^5*c^3 + 1260*a^2*b^6*c^2 + 360*a^2*b^7*c + 840*a^3*b*c^6 + 2520*a^3*b^2*c^5 + 4200*a^3*b^3*c^4 + 4200*a^3*b^4*c^3 + 2520*a^3*b^5*c^2 + 840*a^3*b^6*c + 1260*a^4*b*c^5 + 3150*a^4*b^2*c^4 + 4200*a^4*b^3*c^3 + 3150*a^4*b^4*c^2 + 1260*a^4*b^5*c + 1260*a^5*b*c^4 + 2520*a^5*b^2*c^3 + 2520*a^5*b^3*c^2 + 1260*a^5*b^4*c + 840*a^6*b*c^3 + 1260*a^6*b^2*c^2 + 840*a^6*b^3*c + 360*a^7*b*c^2 + 360*a^7*b^2*c + 90*a^8*b*c + a^10 + b^10 + c^10"
      ]
     },
     "execution_count": 5,
     "metadata": {},
     "output_type": "execute_result"
    }
   ],
   "source": [
    "expand(d)"
   ]
  }
 ],
 "metadata": {
  "kernelspec": {
   "display_name": "Julia 0.4.6",
   "language": "julia",
   "name": "julia-0.4"
  },
  "language_info": {
   "file_extension": ".jl",
   "mimetype": "application/julia",
   "name": "julia",
   "version": "0.4.6"
  },
  "widgets": {
   "state": {},
   "version": "1.1.2"
  }
 },
 "nbformat": 4,
 "nbformat_minor": 0
}
